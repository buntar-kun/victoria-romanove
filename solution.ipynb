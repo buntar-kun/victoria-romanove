{
 "cells": [
  {
   "cell_type": "markdown",
   "metadata": {},
   "source": [
    "\n",
    "### Предисловие\n",
    "\n",
    "С размышлениями и оформлением это решение я написал за ~14 часов.\n",
    "\n",
    "Я начал с того что погуглил, и перейдя по первой ссылке нашёл <a href=\"https://www.researchgate.net/publication/319037859_Classification_of_Male_and_Female_Speech_Using_Perceptual_Features \">вот такую статью</a>. Понятно, что моя задача более игрушечная (всего 200 семплов во всём датасете), и вряд ли мне требуется слово в слово реализовать то, что здесь описано, но отсюда я почерпнул две вещи: две фичи и классификаторы (SVM и KNN).\n",
    "\n",
    "Заранее скажу, что лучшая модель получает значение макро f-меры в районе ~0.83 на тесте (значение меняется на +- -0.03 при изменении random_state при train_test_split. При этом я вообще не использую преобразование Фурье -- просто я решил, что этого результата достаточно если мне просто нужно показать что я умею в мешин лёрнинг. Если ожидается результат лучше -- я могу накидать ещё признаков через амплитуду и магспек, уверен результаты станут лучше.\n",
    "\n",
    "### 1.  Preprocessing\n",
    "\n",
    "Для начала разделим данные на трейн и тест таким образом, чтоб соотношение male/female было для них одинаковым:"
   ]
  },
  {
   "cell_type": "code",
   "execution_count": 1,
   "metadata": {},
   "outputs": [
    {
     "name": "stdout",
     "output_type": "stream",
     "text": [
      "Кол-во семплов в трейне: 163\n",
      "Кол-во семплов в тесте: 41\n",
      "Мужских семплов в трейне: 82\n",
      "Мужских семплов в тесте: 20\n"
     ]
    }
   ],
   "source": [
    "import os\n",
    "import numpy as np\n",
    "\n",
    "from sklearn.model_selection import train_test_split\n",
    "\n",
    "\n",
    "filenames = sorted(os.listdir('./wav_data'))\n",
    "with open('m.txt', 'r') as f:\n",
    "    male_filenames = f.read().split('\\n')[:-1] # [:-1] чтоб убрать пустую строку, т.к. в конце файла \\n\n",
    "target = [int(filename in male_filenames) for filename in filenames]\n",
    "\n",
    "train_filenames, test_filenames, y_train, y_test = train_test_split(filenames, \n",
    "                                                                    target, \n",
    "                                                                    test_size = 0.2, \n",
    "                                                                    stratify=target,\n",
    "                                                                   random_state = 239)\n",
    "print('Кол-во семплов в трейне: {}'.format(len(train_filenames)))\n",
    "print('Кол-во семплов в тесте: {}'.format(len(test_filenames)))\n",
    "print('Мужских семплов в трейне: {}'.format(np.sum(y_train)))\n",
    "print('Мужских семплов в тесте: {}'.format(np.sum(y_test)))"
   ]
  },
  {
   "cell_type": "markdown",
   "metadata": {},
   "source": [
    "Теперь давайте прочитаем файлы, переведём их в числа и для примера нарисуем случайный файл."
   ]
  },
  {
   "cell_type": "code",
   "execution_count": 2,
   "metadata": {},
   "outputs": [
    {
     "data": {
      "image/png": "[encoded data removed]",
      "text/plain": [
       "<Figure size 432x288 with 1 Axes>"
      ]
     },
     "metadata": {
      "needs_background": "light"
     },
     "output_type": "display_data"
    }
   ],
   "source": [
    "import scipy.io\n",
    "import scipy.io.wavfile\n",
    "import numpy as np\n",
    "import matplotlib.pyplot as plt\n",
    "import random\n",
    "\n",
    "\n",
    "def filename_to_wav(filename, plot_wav = False):\n",
    "    path_to_wav = './wav_data/' + filename\n",
    "    sample_rate, audio_buffer = scipy.io.wavfile.read(path_to_wav)\n",
    "    \n",
    "    if(plot_wav):\n",
    "        duration = len(audio_buffer)/sample_rate\n",
    "\n",
    "        time = np.arange(0, duration, 1/sample_rate) #time vector\n",
    "\n",
    "        plt.plot(time,audio_buffer)\n",
    "        plt.xlabel('Time [s]')\n",
    "        plt.ylabel('Amplitude')\n",
    "        \n",
    "        label = 'Male' if filename in male_filenames else 'Female'\n",
    "        \n",
    "        plt.title('{}, {}'.format(filename, label))\n",
    "        plt.show()\n",
    "    \n",
    "    return audio_buffer\n",
    "\n",
    "\n",
    "random_wav_id = random.randint(0, len(filenames) - 1)\n",
    "random_filename = filenames[random_wav_id]\n",
    "random_audio_buffer = filename_to_wav(random_filename, plot_wav=True)\n",
    "train_wav = np.array(list(map(filename_to_wav, train_filenames)))\n",
    "test_wav = np.array(list(map(filename_to_wav, test_filenames)))"
   ]
  },
  {
   "cell_type": "markdown",
   "metadata": {},
   "source": [
    "Теперь давайте кадрируем данные. Размер окна и сдвиг взяты из статьи."
   ]
  },
  {
   "cell_type": "code",
   "execution_count": 3,
   "metadata": {},
   "outputs": [],
   "source": [
    "WIN_SHIFT = 25\n",
    "WIN_SIZE = 50\n",
    "\n",
    "\n",
    "def wav_to_frames(wav):\n",
    "    num_frames = int(np.floor((wav.shape[0] - WIN_SIZE) / WIN_SHIFT) + 1)\n",
    "    frames = np.zeros([WIN_SIZE, num_frames])\n",
    "    for t in range(0, num_frames):\n",
    "        frame = wav[t * WIN_SHIFT:t * WIN_SHIFT + WIN_SIZE]\n",
    "        frame = frame - np.mean(frame)\n",
    "        frames[:, t] = np.hamming(WIN_SIZE) * frame\n",
    "    return frames.T\n",
    "\n",
    "random_frame = wav_to_frames(random_audio_buffer)\n",
    "train_frames = np.array(list(map(wav_to_frames, train_wav)))\n",
    "test_frames = np.array(list(map(wav_to_frames, test_wav)))"
   ]
  },
  {
   "cell_type": "markdown",
   "metadata": {},
   "source": [
    "### 2. Извлечение признаков\n",
    "\n",
    "\n",
    "\n",
    "#### 1) Short Time Zero Crossing Rate (STZCR)\n",
    "\n",
    "Этот признак показывает как часто аудиосигнал одного кадра (фрейма) меняет свой знак. В качестве признака для одного семпла из исходного датасета возьмем среднее значение и отклонение этого признака по всем кадрам фрейма."
   ]
  },
  {
   "cell_type": "code",
   "execution_count": 4,
   "metadata": {},
   "outputs": [],
   "source": [
    "def get_zcr(framed_wav):\n",
    "    n_frames, n_feat = framed_wav.shape\n",
    "    zcr = np.zeros(n_frames)\n",
    "    \n",
    "    #я знаю что следующие три строчки стоило бы записать в одну, но могу так только в pandas\n",
    "    for i in range(n_frames):\n",
    "        for j in range(1, n_feat):\n",
    "            zcr[i] = zcr[i] + np.sign(framed_wav[i][j - 1] * framed_wav[i][j])\n",
    "    return np.mean(zcr), np.std(zcr)\n",
    "\n",
    "train_zcr = np.array(list(map(get_zcr, train_frames)))"
   ]
  },
  {
   "cell_type": "code",
   "execution_count": 5,
   "metadata": {},
   "outputs": [
    {
     "data": {
      "image/png": "[encoded data removed]",
      "text/plain": [
       "<Figure size 432x288 with 1 Axes>"
      ]
     },
     "metadata": {
      "needs_background": "light"
     },
     "output_type": "display_data"
    }
   ],
   "source": [
    "import matplotlib.lines as mlines\n",
    "\n",
    "handles = [mlines.Line2D([], [], color='red', marker='o', label='Male'),\n",
    "           mlines.Line2D([], [], color='green', marker='o', label='Female')]\n",
    "\n",
    "plt.xlabel('mean zcr')\n",
    "plt.ylabel('std zcr')\n",
    "\n",
    "\n",
    "for i in range(len(train_zcr)):\n",
    "    label = 'ro' if y_train[i] == 1 else 'go'\n",
    "    plt.plot(train_zcr[i][0], train_zcr[i][1], label)    \n",
    "\n",
    "plt.legend(handles=handles)\n",
    "\n",
    "plt.show()"
   ]
  },
  {
   "cell_type": "markdown",
   "metadata": {},
   "source": [
    "Ура, чисто визуально данные вполне разделимы уже по этому одному (двум признакам). Давайте извлечём еще один (два).\n",
    "\n",
    "#### 2) Short Time Energy (STE)\n",
    "\n",
    "Этот признак характеризует динамику изменения сигнала. Точно так же -- посчитаем его для каждого фрейма, а в качестве признаков возьмем среднее и стандартное отклонение."
   ]
  },
  {
   "cell_type": "code",
   "execution_count": 6,
   "metadata": {},
   "outputs": [
    {
     "data": {
      "image/png": "[encoded data removed]",
      "text/plain": [
       "<Figure size 432x288 with 1 Axes>"
      ]
     },
     "metadata": {
      "needs_background": "light"
     },
     "output_type": "display_data"
    }
   ],
   "source": [
    "#вот так, в лоб, я считаю амплитуду без преобразования фурье\n",
    "def get_amplitude(sample):\n",
    "    max_val = np.max(sample)\n",
    "    min_val = np.min(sample)\n",
    "    mean_val = np.mean(sample)\n",
    "    return max(max_val - mean_val, mean_val - min_val)\n",
    "\n",
    "def get_ste(framed_wav):\n",
    "    amplitudes = np.array(list(map(get_amplitude, framed_wav)))\n",
    "    return amplitudes.mean(), amplitudes.std()\n",
    "\n",
    "train_ste = np.array(list(map(get_ste, train_frames)))\n",
    "\n",
    "plt.xlabel('mean ste')\n",
    "plt.ylabel('std ste')\n",
    "\n",
    "\n",
    "for i in range(len(train_zcr)):\n",
    "    label = 'ro' if y_train[i] == 1 else 'go'\n",
    "    plt.plot(train_ste[i][0], train_ste[i][1], label)    \n",
    "\n",
    "plt.legend(handles=handles)\n",
    "\n",
    "plt.show()"
   ]
  },
  {
   "cell_type": "markdown",
   "metadata": {},
   "source": [
    "Пока что остановимся. Получим таблицу фичей."
   ]
  },
  {
   "cell_type": "code",
   "execution_count": 26,
   "metadata": {},
   "outputs": [
    {
     "data": {
      "text/html": [
       "<div>\n",
       "<style scoped>\n",
       "    .dataframe tbody tr th:only-of-type {\n",
       "        vertical-align: middle;\n",
       "    }\n",
       "\n",
       "    .dataframe tbody tr th {\n",
       "        vertical-align: top;\n",
       "    }\n",
       "\n",
       "    .dataframe thead th {\n",
       "        text-align: right;\n",
       "    }\n",
       "</style>\n",
       "<table border=\"1\" class=\"dataframe\">\n",
       "  <thead>\n",
       "    <tr style=\"text-align: right;\">\n",
       "      <th></th>\n",
       "      <th>zcr mean</th>\n",
       "      <th>zcr std</th>\n",
       "      <th>ste mean</th>\n",
       "      <th>ste std</th>\n",
       "      <th>target</th>\n",
       "    </tr>\n",
       "  </thead>\n",
       "  <tbody>\n",
       "    <tr>\n",
       "      <th>A30001X4.wav</th>\n",
       "      <td>29.245128</td>\n",
       "      <td>9.795259</td>\n",
       "      <td>134.266853</td>\n",
       "      <td>395.581364</td>\n",
       "      <td>1.0</td>\n",
       "    </tr>\n",
       "    <tr>\n",
       "      <th>A30003A1.wav</th>\n",
       "      <td>13.850112</td>\n",
       "      <td>13.079601</td>\n",
       "      <td>628.478485</td>\n",
       "      <td>2025.228578</td>\n",
       "      <td>1.0</td>\n",
       "    </tr>\n",
       "    <tr>\n",
       "      <th>A30001S2.wav</th>\n",
       "      <td>28.448517</td>\n",
       "      <td>11.451473</td>\n",
       "      <td>436.945973</td>\n",
       "      <td>896.189866</td>\n",
       "      <td>1.0</td>\n",
       "    </tr>\n",
       "    <tr>\n",
       "      <th>A30003A4.wav</th>\n",
       "      <td>19.947907</td>\n",
       "      <td>12.561850</td>\n",
       "      <td>545.960565</td>\n",
       "      <td>2136.898722</td>\n",
       "      <td>1.0</td>\n",
       "    </tr>\n",
       "    <tr>\n",
       "      <th>A30002L3.wav</th>\n",
       "      <td>19.068147</td>\n",
       "      <td>13.409153</td>\n",
       "      <td>1168.654399</td>\n",
       "      <td>2028.283803</td>\n",
       "      <td>0.0</td>\n",
       "    </tr>\n",
       "    <tr>\n",
       "      <th>...</th>\n",
       "      <td>...</td>\n",
       "      <td>...</td>\n",
       "      <td>...</td>\n",
       "      <td>...</td>\n",
       "      <td>...</td>\n",
       "    </tr>\n",
       "    <tr>\n",
       "      <th>A30001C3.wav</th>\n",
       "      <td>21.450996</td>\n",
       "      <td>17.526612</td>\n",
       "      <td>675.561974</td>\n",
       "      <td>1166.982307</td>\n",
       "      <td>1.0</td>\n",
       "    </tr>\n",
       "    <tr>\n",
       "      <th>A30001L2.wav</th>\n",
       "      <td>26.166723</td>\n",
       "      <td>12.558975</td>\n",
       "      <td>378.569868</td>\n",
       "      <td>779.966677</td>\n",
       "      <td>1.0</td>\n",
       "    </tr>\n",
       "    <tr>\n",
       "      <th>A30000M1.wav</th>\n",
       "      <td>34.015070</td>\n",
       "      <td>8.911615</td>\n",
       "      <td>1203.042356</td>\n",
       "      <td>1872.101406</td>\n",
       "      <td>0.0</td>\n",
       "    </tr>\n",
       "    <tr>\n",
       "      <th>A30001A5.wav</th>\n",
       "      <td>28.213925</td>\n",
       "      <td>10.033076</td>\n",
       "      <td>154.618235</td>\n",
       "      <td>479.928108</td>\n",
       "      <td>1.0</td>\n",
       "    </tr>\n",
       "    <tr>\n",
       "      <th>A30002C3.wav</th>\n",
       "      <td>19.732190</td>\n",
       "      <td>15.269593</td>\n",
       "      <td>1249.754150</td>\n",
       "      <td>2245.253172</td>\n",
       "      <td>0.0</td>\n",
       "    </tr>\n",
       "  </tbody>\n",
       "</table>\n",
       "<p>163 rows × 5 columns</p>\n",
       "</div>"
      ],
      "text/plain": [
       "               zcr mean    zcr std     ste mean      ste std  target\n",
       "A30001X4.wav  29.245128   9.795259   134.266853   395.581364     1.0\n",
       "A30003A1.wav  13.850112  13.079601   628.478485  2025.228578     1.0\n",
       "A30001S2.wav  28.448517  11.451473   436.945973   896.189866     1.0\n",
       "A30003A4.wav  19.947907  12.561850   545.960565  2136.898722     1.0\n",
       "A30002L3.wav  19.068147  13.409153  1168.654399  2028.283803     0.0\n",
       "...                 ...        ...          ...          ...     ...\n",
       "A30001C3.wav  21.450996  17.526612   675.561974  1166.982307     1.0\n",
       "A30001L2.wav  26.166723  12.558975   378.569868   779.966677     1.0\n",
       "A30000M1.wav  34.015070   8.911615  1203.042356  1872.101406     0.0\n",
       "A30001A5.wav  28.213925  10.033076   154.618235   479.928108     1.0\n",
       "A30002C3.wav  19.732190  15.269593  1249.754150  2245.253172     0.0\n",
       "\n",
       "[163 rows x 5 columns]"
      ]
     },
     "execution_count": 26,
     "metadata": {},
     "output_type": "execute_result"
    }
   ],
   "source": [
    "import pandas as pd\n",
    "\n",
    "def extract_features(framed_wavs, labels):\n",
    "    \n",
    "    result_table = pd.DataFrame(index=['zcr mean', 'zcr std',\n",
    "                                       'ste mean', 'ste std',\n",
    "                                       'target'])\n",
    "    for i, (wav, label) in enumerate(zip(framed_wavs, labels)):\n",
    "        zcr_m, zcr_s = get_zcr(wav)\n",
    "        ste_m, ste_s = get_ste(wav)\n",
    "        result_table[train_filenames[i]] = [zcr_m, zcr_s, ste_m, ste_s, label]\n",
    "        \n",
    "    return result_table.T\n",
    "        \n",
    "train_data = extract_features(train_frames, y_train)\n",
    "train_data"
   ]
  },
  {
   "cell_type": "markdown",
   "metadata": {},
   "source": [
    "### 3. Применение моделей\n",
    "\n",
    "Для начала доведём до ума данные. Во-первых, давайте стандартизуем данные, а во-вторых -- давайте примением метод главных компонент и сократим число признаков до двух. Это нужно для визуализации, но забегая вперёд скажу, что для простоты я применяю модели к сокращенным до двух измерений данным."
   ]
  },
  {
   "cell_type": "code",
   "execution_count": 27,
   "metadata": {},
   "outputs": [],
   "source": [
    "import copy\n",
    "\n",
    "def standartize_table(table, source_table):\n",
    "    \n",
    "    #table -- таблица которую хотим преобразовать\n",
    "    #source_table -- таблица, на основе которой хотим преобразовать table. И для трейна, и для теста\n",
    "    # этой таблицей будет служить train, ну классика короче\n",
    "    \n",
    "    for col in source_table.columns:\n",
    "        table[col] = (table[col] - source_table[col].mean()) / source_table[col].std() \n",
    "    return table\n",
    "\n",
    "from sklearn.decomposition import PCA\n",
    "\n",
    "train_data = train_data.drop(['target'], axis=1)\n",
    "X = standartize_table(copy.copy(train_data), train_data)\n",
    "pca = PCA(n_components = 2)\n",
    "pca.fit(X)\n",
    "X_pca = pca.transform(X)\n",
    "\n",
    "m0_filename = 'pca.sav'\n",
    "pickle.dump(pca, open(m0_filename, 'wb'))\n",
    "train_data.to_pickle('source_table.pkl')"
   ]
  },
  {
   "cell_type": "markdown",
   "metadata": {},
   "source": [
    "Преобразуем также и тестовые данные"
   ]
  },
  {
   "cell_type": "code",
   "execution_count": 9,
   "metadata": {},
   "outputs": [],
   "source": [
    "test_features = extract_features(test_frames, y_test).drop(['target'], axis = 1)\n",
    "test_features = standartize_table(test_features, train_data)\n",
    "test_pca = pca.transform(test_features)"
   ]
  },
  {
   "cell_type": "code",
   "execution_count": 10,
   "metadata": {},
   "outputs": [
    {
     "data": {
      "image/png": "[encoded data removed]",
      "text/plain": [
       "<Figure size 432x288 with 1 Axes>"
      ]
     },
     "metadata": {
      "needs_background": "light"
     },
     "output_type": "display_data"
    }
   ],
   "source": [
    "for i in range(len(X_pca)):\n",
    "    label = 'ro' if y_train[i] == 1 else 'go'\n",
    "    plt.plot(X_pca[i][0], X_pca[i][1], label)    \n",
    "\n",
    "plt.legend(handles=handles)\n",
    "\n",
    "plt.show()"
   ]
  },
  {
   "cell_type": "markdown",
   "metadata": {},
   "source": [
    "#### 1) Support Vector Machine (Метод Опорных Векторов)\n",
    "\n",
    "SVM решает задачу бинарной классификации в n-мерной пространстве построение (n-1)-мерной разделяющей плоскости -- то что нужно. Правда, на картинке выше видно, что данные не очень делятся прямой, но это ничего потому что существуют ядерные преобразования. \n",
    "\n",
    "С помощью grid search, выполняющего 5-фолдовую кросс-валидацию давайте найдем лучшие значения параметров SVM по макро f1-мере (невзвешенное среднее между бинарной f1-мерой по каждому из классов). Переберём параметры регурялизации, ядра для ядерного преобразования и коэфициент гамма при ядре (для нелинейных преобразований)."
   ]
  },
  {
   "cell_type": "code",
   "execution_count": 11,
   "metadata": {},
   "outputs": [
    {
     "data": {
      "text/plain": [
       "{'C': 0.7, 'gamma': 'auto', 'kernel': 'rbf'}"
      ]
     },
     "execution_count": 11,
     "metadata": {},
     "output_type": "execute_result"
    }
   ],
   "source": [
    "from sklearn.svm import SVC\n",
    "from sklearn.model_selection import GridSearchCV\n",
    "\n",
    "svm = SVC()\n",
    "\n",
    "\n",
    "svm_params = {\n",
    "    'C': [0.1, 0.4, 0.7, 0.9, 1.0],\n",
    "    'kernel': ['linear', 'poly', 'rbf', 'sigmoid'],\n",
    "    'gamma': ['scale', 'auto']\n",
    "}\n",
    "\n",
    "clf = GridSearchCV(svm, svm_params,\n",
    "                  scoring = 'f1_micro',\n",
    "                  cv = 5)\n",
    "\n",
    "clf.fit(X_pca, y_train)\n",
    "\n",
    "svm_best_params = clf.best_params_\n",
    "svm_best_params"
   ]
  },
  {
   "cell_type": "markdown",
   "metadata": {},
   "source": [
    "#### 2) KNN Classifier\n",
    "\n",
    "Этот классификатор работает принципиально по другому -- он предсказывает лейбл объекта в зависимости от лейблов его K ближайших соседей. Сделаем точно такой же поиск лучших параметров. Перебирать будем количество соседей K, значимость расстояния до ближайшего соседа (имеет ли значение как далеко сосед, и если да -- то чем ближе сосед, тем больше предсказание будет склоняться к лейблу соседа) и метрику расстояния (минковского / эвклидово)."
   ]
  },
  {
   "cell_type": "code",
   "execution_count": 12,
   "metadata": {},
   "outputs": [
    {
     "data": {
      "text/plain": [
       "{'n_neighbors': 25, 'p': 1, 'weights': 'uniform'}"
      ]
     },
     "execution_count": 12,
     "metadata": {},
     "output_type": "execute_result"
    }
   ],
   "source": [
    "from sklearn.neighbors import KNeighborsClassifier\n",
    "\n",
    "from sklearn.svm import SVC\n",
    "from sklearn.model_selection import GridSearchCV\n",
    "\n",
    "knn = KNeighborsClassifier()\n",
    "\n",
    "knn_params = {\n",
    "    'n_neighbors': [3, 5, 7, 9, 11, 13, 15, 17, 20, 25, 37, 50],\n",
    "    'weights': ['uniform', 'distance'],\n",
    "    'p': [1, 2]\n",
    "}\n",
    "\n",
    "clf = GridSearchCV(knn, knn_params,\n",
    "                  scoring = 'f1_micro',\n",
    "                  cv = 5)\n",
    "\n",
    "clf.fit(X_pca, y_train)\n",
    "\n",
    "knn_best_params = clf.best_params_\n",
    "knn_best_params"
   ]
  },
  {
   "cell_type": "markdown",
   "metadata": {},
   "source": [
    "Теперь давайте передадим обеим моделям лучшие параметры и проверим их точность на тестовом множестве."
   ]
  },
  {
   "cell_type": "code",
   "execution_count": 13,
   "metadata": {},
   "outputs": [
    {
     "name": "stdout",
     "output_type": "stream",
     "text": [
      "Support Vector Classifier results:\n",
      "\tf1 score on Male class = 0.857\n",
      "\tf1 score on Female class = 0.850\n",
      "\tAccuracy = 0.854\n",
      "K-Neighbors Classifier results:\n",
      "\tf1 score on Male class = 0.829\n",
      "\tf1 score on Female class = 0.829\n",
      "\tAccuracy = 0.829\n"
     ]
    }
   ],
   "source": [
    "from sklearn.metrics import f1_score\n",
    "import pickle \n",
    "\n",
    "def print_model_results(model, model_name):\n",
    "\n",
    "    test_pred = model.predict(test_pca)\n",
    "    \n",
    "    print(\"{} results:\".format(model_name))\n",
    "\n",
    "    print(\"\\tf1 score on Male class = {:.3f}\".format(f1_score(y_test, test_pred, pos_label = 1)))\n",
    "    print(\"\\tf1 score on Female class = {:.3f}\".format(f1_score(y_test, test_pred, pos_label = 0)))\n",
    "\n",
    "    test_len = len(y_test)\n",
    "    print(\"\\tAccuracy = {:.3f}\".format(sum([1 if y_test[i] == test_pred[i] else 0 for i in range(test_len)]) / test_len))\n",
    "\n",
    "    \n",
    "svm = SVC(**svm_best_params)\n",
    "svm.fit(X_pca, y_train)\n",
    "pickle.\n",
    "\n",
    "knn = KNeighborsClassifier(**knn_best_params)\n",
    "knn.fit(X_pca, y_train)\n",
    "\n",
    "print_model_results(svm, 'Support Vector Classifier')\n",
    "print_model_results(knn, 'K-Neighbors Classifier')"
   ]
  },
  {
   "cell_type": "markdown",
   "metadata": {},
   "source": [
    "Даже с учетом того, что монетка даёт точность 0.5 -- числа вполне приличные."
   ]
  },
  {
   "cell_type": "code",
   "execution_count": null,
   "metadata": {},
   "outputs": [],
   "source": []
  }
 ],
 "metadata": {
  "kernelspec": {
   "display_name": "Python 3",
   "language": "python",
   "name": "python3"
  },
  "language_info": {
   "codemirror_mode": {
    "name": "ipython",
    "version": 3
   },
   "file_extension": ".py",
   "mimetype": "text/x-python",
   "name": "python",
   "nbconvert_exporter": "python",
   "pygments_lexer": "ipython3",
   "version": "3.8.10"
  }
 },
 "nbformat": 4,
 "nbformat_minor": 4
}